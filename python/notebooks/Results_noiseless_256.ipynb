{
 "cells": [
  {
   "cell_type": "code",
   "execution_count": 56,
   "metadata": {
    "collapsed": true
   },
   "outputs": [],
   "source": [
    "import matplotlib.pyplot as plt\n",
    "import numpy as np\n",
    "import math as m"
   ]
  },
  {
   "cell_type": "code",
   "execution_count": 57,
   "metadata": {
    "collapsed": true
   },
   "outputs": [],
   "source": [
    "def plot(f):\n",
    "    x = np.arange(-5,5.001,0.01)\n",
    "    y = [f(i) for i in x]\n",
    "    \n",
    "    plt.figure(figsize=(10,4))\n",
    "    plt.plot(x, y)\n",
    "    plt.grid()\n",
    "    plt.show()"
   ]
  },
  {
   "cell_type": "markdown",
   "metadata": {},
   "source": [
    "# Noiseless byte prediction (256 class)"
   ]
  },
  {
   "cell_type": "markdown",
   "metadata": {},
   "source": [
    "# Common function results\n",
    "\n",
    "#### Common parameter values\n",
    "|Parameters|Common values|\n",
    "|:---|---|---|\n",
    "|epochs_num|10|\n",
    "|batch_size|256|\n",
    "|normalize_features|true|\n",
    "|shuffle_batches|true|\n",
    "|batch_norm|true|\n",
    "|learning_rate|0.002|\n",
    "|decay_rate|0.99|\n",
    "|decay_step|1|\n",
    "|regularization_coef|1e-4|\n",
    "|seed|42|"
   ]
  },
  {
   "cell_type": "markdown",
   "metadata": {},
   "source": [
    "#### Grid search parameter configurations\n",
    "|Param bundle|epochs_num|learning_rate|regularization_coef|\n",
    "|:---|---|---|---|\n",
    "|1|5|2e-3|1e-3|\n",
    "|2|10|2e-3|1e-3|\n",
    "|3|5|1e-3|1e-3|\n",
    "|4|10|1e-3|1e-3|\n",
    "|5|5|2e-3|1e-4|\n",
    "|6|10|2e-3|1e-4|\n",
    "|7|5|1e-3|1e-4|\n",
    "|8|10|1e-3|1e-4|"
   ]
  },
  {
   "cell_type": "markdown",
   "metadata": {},
   "source": [
    "### Architecture 200\n",
    "\n",
    "|Function|Accuracy|Precision|Recall|F1|Best params|\n",
    "|:---|---|---|---|---|---:|\n",
    "|ReLU                |0.463 | 0.485 | 0.464 | 0.450 | 6\n",
    "|ReLU6               |0.465 | 0.486 | 0.465 | 0.452 | 6\n",
    "|ELU (1)             |0.443 | 0.466 | 0.444 | 0.427 | 6\n",
    "|SELU                |0.425 | 0.447 | 0.426 | 0.408 | 6\n",
    "|LReLU               |0.462 | 0.483 | 0.463 | 0.448 | 6\n",
    "|Thresholded ReLU (1)|0.360 | 0.377 | 0.358 | 0.349 | 5\n",
    "|Swish               |0.464 | 0.486 | 0.465 | 0.451 | 6\n",
    "|Sigmoid             |0.440 | 0.462 | 0.440 | 0.425 | 6\n",
    "|Hard sigmoid        |0.402 | 0.428 | 0.402 | 0.385 | 6\n",
    "|tanh                |0.471 | 0.493 | 0.471 | 0.457 | 6\n",
    "|Hard tanh           |0.467 | 0.485 | 0.468 | 0.453 | 6\n",
    "|Rational tanh       |0.454 | 0.476 | 0.455 | 0.439 | 6\n",
    "|Rectified tanh      |0.491 | 0.515 | 0.492 | 0.479 | 6\n",
    "|Softmax             |0.480 | 0.497 | 0.481 | 0.468 | 6\n",
    "|Softplus            |0.436 | 0.461 | 0.437 | 0.421 | 6\n",
    "|Softsign            |0.461 | 0.481 | 0.461 | 0.446 | 6\n",
    "|sin                 |0.531 | 0.544 | 0.532 | 0.524 | 6\n",
    "|cos                 |**0.532** | 0.542 | 0.533 | **0.526** | 6\n",
    "|exp                 |0.406 | 0.437 | 0.406 | 0.393 | 6\n",
    "|pow2                |0.444 | 0.459 | 0.445 | 0.434 | 6\n",
    "|pow3                |0.454 | 0.473 | 0.455 | 0.443 | 6\n",
    "|gauss               |0.521 | 0.533 | 0.521 | 0.515 | 6"
   ]
  },
  {
   "cell_type": "markdown",
   "metadata": {},
   "source": [
    "### Architecture 300\n",
    "\n",
    "|Function|Accuracy|Precision|Recall|F1|Best params|\n",
    "|:---|---|---|---|---|---:|\n",
    "|ReLU                |0.473 | 0.491 | 0.474 | 0.462 | 6\n",
    "|ReLU6               |0.472 | 0.491 | 0.473 | 0.462 | 6\n",
    "|ELU (1)             |0.446 | 0.471 | 0.447 | 0.432 | 6\n",
    "|SELU                |0.428 | 0.453 | 0.429 | 0.411 | 6\n",
    "|LReLU               |0.473 | 0.490 | 0.474 | 0.462 | 6\n",
    "|Thresholded ReLU (1)|0.375 | 0.384 | 0.375 | 0.362 | 5\n",
    "|Swish               |0.471 | 0.490 | 0.472 | 0.459 | 6\n",
    "|Sigmoid             |0.445 | 0.466 | 0.446 | 0.430 | 6\n",
    "|Hard sigmoid        |0.405 | 0.430 | 0.406 | 0.386 | 6\n",
    "|tanh                |0.484 | 0.503 | 0.485 | 0.470 | 6\n",
    "|Hard tanh           |0.479 | 0.500 | 0.479 | 0.465 | 6\n",
    "|Rational tanh       |0.463 | 0.484 | 0.464 | 0.448 | 6\n",
    "|Rectified tanh      |0.502 | 0.522 | 0.503 | 0.493 | 6\n",
    "|Softmax             |0.485 | 0.495 | 0.485 | 0.475 | 6\n",
    "|Softplus            |0.440 | 0.462 | 0.440 | 0.425 | 6\n",
    "|Softsign            |0.466 | 0.490 | 0.467 | 0.451 | 6\n",
    "|sin                 |**0.546** | 0.554 | 0.547 | **0.539** | 6\n",
    "|cos                 |0.537 | 0.543 | 0.537 | 0.531 | 6\n",
    "|exp                 |0.408 | 0.433 | 0.409 | 0.398 | 8\n",
    "|pow2                |0.440 | 0.450 | 0.440 | 0.433 | 8\n",
    "|pow3                |0.462 | 0.480 | 0.463 | 0.452 | 6\n",
    "|gauss               |0.527 | 0.535 | 0.528 | 0.520 | 6"
   ]
  },
  {
   "cell_type": "markdown",
   "metadata": {},
   "source": [
    "### Architecture 500\n",
    "\n",
    "|Function|Accuracy|Precision|Recall|F1|Best params|\n",
    "|:---|---|---|---|---|---:|\n",
    "|ReLU                |0.476 | 0.498 | 0.476 | 0.465 | 6\n",
    "|ReLU6               |0.474 | 0.494 | 0.474 | 0.463 | 6\n",
    "|ELU (1)             |0.437 | 0.463 | 0.438 | 0.421 | 6\n",
    "|SELU                |0.420 | 0.452 | 0.421 | 0.403 | 6\n",
    "|LReLU               |0.474 | 0.495 | 0.474 | 0.463 | 6\n",
    "|Thresholded ReLU (1)|0.403 | 0.412 | 0.403 | 0.395 | 6\n",
    "|Swish               |0.470 | 0.489 | 0.471 | 0.459 | 6\n",
    "|Sigmoid             |0.435 | 0.469 | 0.436 | 0.419 | 6\n",
    "|Hard sigmoid        |0.389 | 0.418 | 0.390 | 0.369 | 6\n",
    "|tanh                |0.480 | 0.506 | 0.482 | 0.466 | 6\n",
    "|Hard tanh           |0.474 | 0.503 | 0.475 | 0.459 | 6\n",
    "|Rational tanh       |0.455 | 0.485 | 0.456 | 0.441 | 6\n",
    "|Rectified tanh      |0.506 | 0.528 | 0.507 | 0.495 | 6\n",
    "|Softmax             |0.492 | 0.502 | 0.493 | 0.483 | 6\n",
    "|Softplus            |0.430 | 0.454 | 0.430 | 0.414 | 6\n",
    "|Softsign            |0.464 | 0.494 | 0.465 | 0.449 | 6\n",
    "|sin                 |**0.550** | 0.560 | 0.551 | **0.544** | 6\n",
    "|cos                 |0.525 | 0.532 | 0.525 | 0.519 | 6\n",
    "|exp                 |0.406 | 0.429 | 0.407 | 0.395 | 8\n",
    "|pow2                |0.436 | 0.447 | 0.436 | 0.428 | 8\n",
    "|pow3                |0.458 | 0.478 | 0.460 | 0.447 | 6 (i 8)\n",
    "|gauss               |0.522 | 0.532 | 0.523 | 0.516 | 6"
   ]
  },
  {
   "cell_type": "markdown",
   "metadata": {},
   "source": [
    "### Architecture 10-10\n",
    "\n",
    "|Function|Accuracy|Precision|Recall|F1|Best params|\n",
    "|:---|---|---|---|---|---:|\n",
    "|ReLU                |0.306 | 0.306 | 0.306 | 0.286 | 5\n",
    "|ReLU6               |0.309 | 0.305 | 0.309 | 0.288 | 5\n",
    "|ELU (1)             |0.327 | 0.325 | 0.327 | 0.309 | 5\n",
    "|SELU                |0.322 | 0.323 | 0.323 | 0.300 | 5\n",
    "|LReLU               |0.305 | 0.306 | 0.305 | 0.285 | 5\n",
    "|Thresholded ReLU (1)|0.018 | 0.375 | 0.019 | 0.311 | 0\n",
    "|Swish               |**0.345** | 0.339 | 0.345 | **0.323** | 5\n",
    "|Sigmoid             |0.328 | 0.331 | 0.329 | 0.308 | 5\n",
    "|Hard sigmoid        |0.300 | 0.300 | 0.300 | 0.281 | 5\n",
    "|tanh                |0.321 | 0.325 | 0.321 | 0.301 | 5\n",
    "|Hard tanh           |0.311 | 0.303 | 0.311 | 0.286 | 5\n",
    "|Rational tanh       |0.317 | 0.317 | 0.317 | 0.295 | 5\n",
    "|Rectified tanh      |0.281 | 0.276 | 0.281 | 0.258 | 5\n",
    "|Softmax             |0.306 | 0.306 | 0.307 | 0.286 | 5\n",
    "|Softplus            |0.333 | 0.336 | 0.333 | 0.311 | 5\n",
    "|Softsign            |0.304 | 0.304 | 0.304 | 0.276 | 5\n",
    "|sin                 |**0.345** | 0.355 | 0.345 | **0.323** | 1\n",
    "|cos                 |0.298 | 0.293 | 0.298 | 0.276 | 5\n",
    "|exp                 |0.305 | 0.322 | 0.307 | 0.289 | 5\n",
    "|pow2                |0.288 | 0.294 | 0.287 | 0.272 | 5\n",
    "|pow3                |0.309 | 0.318 | 0.309 | 0.290 | 5\n",
    "|gauss               |0.279 | 0.276 | 0.279 | 0.253 | 1"
   ]
  },
  {
   "cell_type": "markdown",
   "metadata": {},
   "source": [
    "### Architecture 20-20\n",
    "\n",
    "|Function|Accuracy|Precision|Recall|F1|Best params|\n",
    "|:---|---|---|---|---|---:|\n",
    "|ReLU                |0.416 | 0.420 | 0.416 | 0.398 | 6\n",
    "|ReLU6               |0.403 | 0.407 | 0.403 | 0.385 | 6\n",
    "|ELU (1)             |0.423 | 0.430 | 0.424 | 0.408 | 6\n",
    "|SELU                |0.422 | 0.432 | 0.422 | 0.407 | 6\n",
    "|LReLU               |0.421 | 0.428 | 0.421 | 0.404 | 6\n",
    "|Thresholded ReLU (1)|0.008 | 0.532 | 0.008 | 0.414 | 2\n",
    "|Swish               |0.430 | 0.436 | 0.430 | 0.415 | 6\n",
    "|Sigmoid             |0.418 | 0.423 | 0.419 | 0.400 | 6\n",
    "|Hard sigmoid        |0.407 | 0.413 | 0.407 | 0.392 | 6\n",
    "|tanh                |0.415 | 0.422 | 0.416 | 0.398 | 6\n",
    "|Hard tanh           |0.421 | 0.427 | 0.421 | 0.404 | 6\n",
    "|Rational tanh       |0.422 | 0.429 | 0.423 | 0.406 | 6\n",
    "|Rectified tanh      |0.365 | 0.369 | 0.366 | 0.342 | 6\n",
    "|Softmax             |0.418 | 0.424 | 0.418 | 0.400 | 6\n",
    "|Softplus            |0.420 | 0.425 | 0.420 | 0.404 | 6\n",
    "|Softsign            |0.393 | 0.401 | 0.394 | 0.374 | 6 (fali za 5)\n",
    "|sin                 |**0.441** | 0.442 | 0.442 | **0.426** | 6\n",
    "|cos                 |0.394 | 0.396 | 0.395 | 0.379 | 6\n",
    "|exp                 |0.371 | 0.390 | 0.371 | 0.348 | 2\n",
    "|pow2                |0.383 | 0.393 | 0.384 | 0.367 | 6\n",
    "|pow3                |0.389 | 0.399 | 0.390 | 0.370 | 6\n",
    "|gauss               |0.376 | 0.380 | 0.376 | 0.359 | 6"
   ]
  },
  {
   "cell_type": "markdown",
   "metadata": {},
   "source": [
    "### Architecture 30-30\n",
    "\n",
    "|Function|Accuracy|Precision|Recall|F1|Best params|\n",
    "|:---|---|---|---|---|---:|\n",
    "|ReLU| 0.455 | 0.467 | 0.456 | 0.442 | 6\n",
    "|ReLU6| 0.454 | 0.466 | 0.455 | 0.440 | 6\n",
    "|ELU (1)|0.459 | 0.468 | 0.460 | 0.447 | 6\n",
    "|SELU|0.445 | 0.457 | 0.446 | 0.430 | 6\n",
    "|LReLU| 0.451 | 0.462 | 0.452 | 0.437 | 6\n",
    "|Thresholded ReLU (1)| 0.008 | 0.423 | 0.009 | 0.187 | 2\n",
    "|Swish| 0.470 | 0.478 | 0.471 | 0.458 | 6\n",
    "|Sigmoid|0.447 | 0.461 | 0.448 | 0.434 | 6\n",
    "|Hard sigmoid|0.449 | 0.459 | 0.450 | 0.436 | 6\n",
    "|tanh| 0.447 | 0.457 | 0.447 | 0.432 | 6\n",
    "|Hard tanh| 0.447 | 0.453 | 0.447 | 0.432 | 6\n",
    "|Rational tanh| 0.446 | 0.459 | 0.447 | 0.433 | 6\n",
    "|Rectified tanh| 0.401 | 0.406 | 0.402 | 0.380 | 6\n",
    "|Softmax| 0.453 | 0.461 | 0.453 | 0.437 | 6\n",
    "|Softplus| 0.460 | 0.471 | 0.461 | 0.447 | 6\n",
    "|Softsign| 0.424 | 0.434 | 0.425 | 0.408 | 6\n",
    "|sin|**0.474** | 0.481 | 0.475 | **0.463** | 6\n",
    "|cos|0.441 | 0.444 | 0.441 | 0.426 | 6\n",
    "|tan| 0.013 | 0.012 | 0.013 | 0.004 | 4 (ni jedan ne valja)\n",
    "|exp|0.412 | 0.433 | 0.412 | 0.396 | 6\n",
    "|pow2| 0.441 | 0.451 | 0.442 | 0.428 | 6\n",
    "|pow3|0.425 | 0.437 | 0.425 | 0.407 | 6\n",
    "|gauss|0.433 | 0.450 | 0.434 | 0.414 | 2 (i 6)"
   ]
  },
  {
   "cell_type": "markdown",
   "metadata": {},
   "source": [
    "### Architecture 50-50\n",
    "\n",
    "|Function|Accuracy|Precision|Recall|F1|Best params|\n",
    "|:---|---|---|---|---|---:|\n",
    "|ReLU|0.484 | 0.493 | 0.485 | 0.471 | 6\n",
    "|ReLU6|0.486 | 0.494 | 0.487 | 0.474 | 6\n",
    "|ELU (1)| 0.490 | 0.507 | 0.491 | 0.477 | 6\n",
    "|SELU|0.483 | 0.498 | 0.483 | 0.469 | 6\n",
    "|LReLU|0.486 | 0.499 | 0.487 | 0.474 | 6\n",
    "|Thresholded ReLU (1)|0.009 | 0.384 | 0.009 | 0.349 | 2 (ni jedan ne valja)\n",
    "|Swish|0.504 | 0.512 | 0.505 | 0.492 | 6\n",
    "|Sigmoid|0.479 | 0.492 | 0.480 | 0.465 | 6\n",
    "|Hard sigmoid|0.473 | 0.487 | 0.474 | 0.458  | 6\n",
    "|tanh|0.483 | 0.498 | 0.484 | 0.470 | 6\n",
    "|Hard tanh|0.480 | 0.493 | 0.481 | 0.465 | 6\n",
    "|Rational tanh|0.482 | 0.499 | 0.483 | 0.470 | 6\n",
    "|Rectified tanh|0.455 | 0.462 | 0.456 | 0.439 | 6 (i 4)\n",
    "|Softmax|0.485 | 0.497 | 0.487 | 0.472 | 6\n",
    "|Softplus|0.488 | 0.502 | 0.490 | 0.475 | 6\n",
    "|Softsign|0.472 | 0.483 | 0.472 | 0.457  | 6\n",
    "|sin|**0.508** | 0.516 | 0.509 | **0.500** | 6\n",
    "|cos| 0.482 | 0.490 | 0.483 | 0.472 | 6\n",
    "|tan|0.015 | 0.011 | 0.015 | 0.004 | 4 (ni jedan ne valja)\n",
    "|exp| 0.425 | 0.457 | 0.426 | 0.409 | 6 (i 5)\n",
    "|pow2|0.471 | 0.485 | 0.472 | 0.459 | 6\n",
    "|pow3|0.466 | 0.483 | 0.467 | 0.452 | 6\n",
    "|gauss| 0.479 | 0.485 | 0.480 | 0.467 | 6"
   ]
  },
  {
   "cell_type": "markdown",
   "metadata": {},
   "source": [
    "### Architecture 100-100\n",
    "\n",
    "|Function|Accuracy|Precision|Recall|F1|Best params|\n",
    "|:---|---|---|---|---|---:|\n",
    "|ReLU                |0.518 | 0.533 | 0.519 | 0.508 | 6\n",
    "|ReLU6               |0.517 | 0.533 | 0.518 | 0.507 | 6\n",
    "|ELU (1)             |0.509 | 0.527 | 0.510 | 0.495 | 6\n",
    "|SELU                |0.496 | 0.513 | 0.497 | 0.481 | 6\n",
    "|LReLU               |0.517 | 0.532 | 0.518 | 0.506 | 6\n",
    "|Thresholded ReLU (1)|0.266 | 0.290 | 0.265 | 0.251 | 5\n",
    "|Swish               |0.534 | 0.546 | 0.535 | 0.525 | 6\n",
    "|Sigmoid             |0.505 | 0.525 | 0.506 | 0.492 | 6\n",
    "|Hard sigmoid        |0.487 | 0.508 | 0.488 | 0.474 | 6\n",
    "|tanh                |0.519 | 0.541 | 0.521 | 0.508 | 6\n",
    "|Hard tanh           |0.509 | 0.534 | 0.510 | 0.497 | 6\n",
    "|Rational tanh       |0.511 | 0.535 | 0.512 | 0.499 | 6\n",
    "|Rectified tanh      |0.499 | 0.512 | 0.500 | 0.487 | 6 (i 8)\n",
    "|Softmax             |0.515 | 0.531 | 0.516 | 0.504 | 6\n",
    "|Softplus            |0.509 | 0.528 | 0.510 | 0.495 | 6\n",
    "|Softsign            |0.507 | 0.528 | 0.508 | 0.495 | 6\n",
    "|sin                 |**0.554** | 0.565 | 0.555 | **0.548** | 6\n",
    "|cos                 |0.520 | 0.534 | 0.521 | 0.513 | 6 (i 8)\n",
    "|exp                 |0.448 | 0.465 | 0.449 | 0.438 | 8\n",
    "|pow2                |0.500 | 0.514 | 0.501 | 0.491 | 6\n",
    "|pow3                |0.505 | 0.525 | 0.506 | 0.493 | 6\n",
    "|gauss               |0.522 | 0.542 | 0.523 | 0.511 | 2"
   ]
  },
  {
   "cell_type": "markdown",
   "metadata": {},
   "source": [
    "### Architecture 200-200\n",
    "\n",
    "|Function|Accuracy|Precision|Recall|F1|Best params|\n",
    "|:---|---|---|---|---|---:|\n",
    "|ReLU                |0.544 | 0.562 | 0.544 | 0.534 | 6\n",
    "|ReLU6               |0.544 | 0.562 | 0.544 | 0.535 | 6\n",
    "|ELU (1)             |0.521 | 0.550 | 0.522 | 0.511 | 6\n",
    "|SELU                |0.510 | 0.539 | 0.511 | 0.497 | 6\n",
    "|LReLU               |0.541 | 0.560 | 0.541 | 0.532 | 6\n",
    "|Thresholded ReLU (1)|0.010 | 0.410 | 0.010 | 0.462 | 4\n",
    "|Swish               |0.543 | 0.559 | 0.543 | 0.534 | 6\n",
    "|Sigmoid             |0.525 | 0.548 | 0.526 | 0.514 | 6\n",
    "|Hard sigmoid        |0.503 | 0.527 | 0.503 | 0.491 | 6\n",
    "|tanh                |0.533 | 0.561 | 0.534 | 0.522 | 6\n",
    "|Hard tanh           |0.528 | 0.552 | 0.529 | 0.518 | 6\n",
    "|Rational tanh       |0.532 | 0.555 | 0.532 | 0.521 | 6\n",
    "|Rectified tanh      |0.528 | 0.545 | 0.529 | 0.518 | 6\n",
    "|Softmax             |0.522 | 0.533 | 0.523 | 0.510 | 6\n",
    "|Softplus            |0.521 | 0.542 | 0.522 | 0.510 | 6\n",
    "|Softsign            |0.522 | 0.550 | 0.523 | 0.510 | 6\n",
    "|sin                 |**0.566** | 0.574 | 0.567 | **0.561** | 8\n",
    "|cos                 |0.545 | 0.552 | 0.545 | 0.540 | 8\n",
    "|exp                 |0.469 | 0.490 | 0.469 | 0.460 | 8\n",
    "|pow2                |0.508 | 0.518 | 0.509 | 0.501 | 8\n",
    "|pow3                |0.511 | 0.536 | 0.511 | 0.501 | 6\n",
    "|gauss               |0.547 | 0.564 | 0.548 | 0.538 | 4"
   ]
  },
  {
   "cell_type": "markdown",
   "metadata": {},
   "source": [
    "### Architecture 30-30-30\n",
    "\n",
    "|Function|Accuracy|Precision|Recall|F1|Best params|\n",
    "|:---|---|---|---|---|---:|\n",
    "|ReLU|0.470 | 0.481 | 0.471 | 0.455 | 6\n",
    "|ReLU6|0.470 | 0.477 | 0.470 | 0.455 | 6\n",
    "|ELU (1)| 0.479 | 0.490 | 0.480 | 0.466 | 6\n",
    "|SELU|0.471 | 0.482 | 0.472 | 0.457 | 6\n",
    "|LReLU|0.469 | 0.475 | 0.469 | 0.455 | 6\n",
    "|Thresholded ReLU (1)|0.012 | 0.388 | 0.012 | 0.355 | 2 (ni jedan ne valja)\n",
    "|Swish|**0.486** | 0.497 | 0.487 | **0.473** | 6\n",
    "|Sigmoid|0.475 | 0.486 | 0.476 | 0.463 | 6\n",
    "|Hard sigmoid|0.468 | 0.480 | 0.468 | 0.456 | 6\n",
    "|tanh|0.460 | 0.471 | 0.462 | 0.446 | 6\n",
    "|Hard tanh|0.465 | 0.470 | 0.465 | 0.448 | 6\n",
    "|Rational tanh| 0.473 | 0.483 | 0.474 | 0.460 | 6\n",
    "|Rectified tanh|0.420 | 0.430 | 0.421 | 0.400 | 6\n",
    "|Softmax|0.460 | 0.466 | 0.461 | 0.445 | 6\n",
    "|Softplus|0.479 | 0.491 | 0.480 | 0.468 | 6\n",
    "|Softsign|0.440 | 0.449 | 0.441 | 0.423 | 6\n",
    "|sin|0.482 | 0.487 | 0.482 | 0.470 | 6\n",
    "|cos|0.421 | 0.427 | 0.422 | 0.405 | 6\n",
    "|tan|0.183 | 0.195 | 0.184 | 0.158 | 4 (ni jedan ne valja)\n",
    "|exp|0.380 | 0.415 | 0.381 | 0.364 | 6 (i 8)\n",
    "|pow2|0.423 | 0.437 | 0.423 | 0.407 | 6\n",
    "|pow3|0.404 | 0.415 | 0.405 | 0.383 | 6\n",
    "|gauss|0.404 | 0.411 | 0.405 | 0.388 | 6"
   ]
  },
  {
   "cell_type": "markdown",
   "metadata": {},
   "source": [
    "### Architecture 50-50-50\n",
    "\n",
    "|Function|Accuracy|Precision|Recall|F1|Best params|\n",
    "|:---|---|---|---|---|---:|\n",
    "|ReLU                |0.498 | 0.511 | 0.499 | 0.484 | 6\n",
    "|ReLU6               |0.497 | 0.511 | 0.498 | 0.483 | 6\n",
    "|ELU (1)             |0.496 | 0.511 | 0.496 | 0.485 | 6\n",
    "|SELU                |0.493 | 0.506 | 0.493 | 0.480 | 6\n",
    "|LReLU               |0.500 | 0.512 | 0.500 | 0.486 | 6\n",
    "|Thresholded ReLU (1)|0.010 | 0.419 | 0.010 | 0.444 | 4\n",
    "|Swish               |0.517 | 0.527 | 0.517 | 0.504 | 6\n",
    "|Sigmoid             |0.494 | 0.511 | 0.495 | 0.481 | 6\n",
    "|Hard sigmoid        |0.503 | 0.516 | 0.504 | 0.492 | 6\n",
    "|tanh                |0.498 | 0.508 | 0.499 | 0.483 | 6\n",
    "|Hard tanh           |0.500 | 0.514 | 0.501 | 0.485 | 6\n",
    "|Rational tanh       |0.504 | 0.517 | 0.504 | 0.492 | 6\n",
    "|Rectified tanh      |0.448 | 0.465 | 0.449 | 0.429 | 4\n",
    "|Softmax             |0.491 | 0.504 | 0.492 | 0.478 | 6\n",
    "|Softplus            |0.499 | 0.515 | 0.500 | 0.487 | 6\n",
    "|Softsign            |0.478 | 0.491 | 0.479 | 0.462 | 6\n",
    "|sin                 |**0.524** | 0.533 | 0.524 | **0.513** | 6\n",
    "|cos                 |0.456 | 0.464 | 0.457 | 0.446 | 6\n",
    "|exp                 |0.425 | 0.439 | 0.426 | 0.415 | 8\n",
    "|pow2                |0.479 | 0.490 | 0.480 | 0.467 | 6\n",
    "|pow3                |0.459 | 0.483 | 0.460 | 0.443 | 6\n",
    "|gauss               |0.457 | 0.464 | 0.457 | 0.444 | 6"
   ]
  },
  {
   "cell_type": "markdown",
   "metadata": {},
   "source": [
    "### Architecture 100-100-100\n",
    "\n",
    "|Function|Accuracy|Precision|Recall|F1|Best params|\n",
    "|:---|---|---|---|---|---:|\n",
    "|ReLU                |**0.534** | 0.550 | 0.534 | 0.522 | 6\n",
    "|ReLU6               |0.530 | 0.543 | 0.531 | 0.516 | 6\n",
    "|ELU (1)             |0.529 | 0.548 | 0.529 | 0.515 | 6\n",
    "|SELU                |0.521 | 0.548 | 0.522 | 0.507 | 6\n",
    "|LReLU               |0.531 | 0.545 | 0.532 | 0.519 | 6\n",
    "|Thresholded ReLU (1)|0.266 | 0.279 | 0.264 | 0.246 | 5\n",
    "|Swish               |0.547 | 0.561 | 0.547 | 0.537 | 6\n",
    "|Sigmoid             |0.526 | 0.547 | 0.527 | 0.514 | 6\n",
    "|Hard sigmoid        |0.515 | 0.534 | 0.516 | 0.504 | 6\n",
    "|tanh                |0.521 | 0.538 | 0.522 | 0.507 | 6\n",
    "|Hard tanh           |0.519 | 0.537 | 0.520 | 0.506 | 6\n",
    "|Rational tanh       |0.533 | 0.552 | 0.534 | 0.522 | 6\n",
    "|Rectified tanh      |0.492 | 0.502 | 0.493 | 0.481 | 8\n",
    "|Softmax             |0.521 | 0.531 | 0.521 | 0.509 | 6\n",
    "|Softplus            |0.532 | 0.550 | 0.533 | 0.520 | 6\n",
    "|Softsign            |0.510 | 0.534 | 0.511 | 0.496 | 6\n",
    "|sin                 |0.553 | 0.567 | 0.553 | **0.547** | 6\n",
    "|cos                 |0.494 | 0.498 | 0.494 | 0.486 | 8\n",
    "|exp                 |0.462 | 0.474 | 0.462 | 0.452 | 8\n",
    "|pow2                |0.512 | 0.526 | 0.512 | 0.503 | 6\n",
    "|pow3                |0.502 | 0.527 | 0.503 | 0.487 | 6\n",
    "|gauss               |0.493 | 0.504 | 0.493 | 0.478 | 4"
   ]
  },
  {
   "cell_type": "markdown",
   "metadata": {},
   "source": [
    "### Architecture 200-200-200\n",
    "\n",
    "|Function|Accuracy|Precision|Recall|F1|Best params|\n",
    "|:---|---|---|---|---|---:|\n",
    "|ReLU                |0.547 | 0.569 | 0.548 | 0.536 | 6 (i 8)\n",
    "|ReLU6               |0.551 | 0.571 | 0.552 | 0.540 | 6\n",
    "|ELU (1)             |0.538 | 0.569 | 0.539 | 0.527 | 6\n",
    "|SELU                |0.534 | 0.562 | 0.535 | 0.521 | 6\n",
    "|LReLU               |0.549 | 0.569 | 0.550 | 0.540 | 6\n",
    "|Thresholded ReLU (1)|0.314 | 0.344 | 0.313 | 0.302 | 5\n",
    "|Swish               |0.556 | 0.575 | 0.557 | 0.547 | 6\n",
    "|Sigmoid             |0.545 | 0.573 | 0.546 | 0.536 | 6\n",
    "|Hard sigmoid        |0.536 | 0.563 | 0.536 | 0.523 | 6\n",
    "|tanh                |0.538 | 0.555 | 0.539 | 0.528 | 8\n",
    "|Hard tanh           |0.537 | 0.557 | 0.538 | 0.526 | 8\n",
    "|Rational tanh       |0.544 | 0.569 | 0.545 | 0.534 | 6\n",
    "|Rectified tanh      |0.523 | 0.535 | 0.523 | 0.512 | 8\n",
    "|Softmax             |0.536 | 0.549 | 0.537 | 0.527 | 6\n",
    "|Softplus            |0.545 | 0.568 | 0.546 | 0.533 | 6\n",
    "|Softsign            |0.534 | 0.560 | 0.535 | 0.521 | 6\n",
    "|sin                 |**0.562** | 0.571 | 0.564 | **0.558** | 8\n",
    "|cos                 |0.515 | 0.525 | 0.515 | 0.504 | 4\n",
    "|exp                 |0.456 | 0.490 | 0.457 | 0.440 | 4\n",
    "|pow2                |0.533 | 0.551 | 0.534 | 0.524 | 6\n",
    "|pow3                |0.513 | 0.543 | 0.514 | 0.500 | 6\n",
    "|gauss               |0.505 | 0.518 | 0.505 | 0.493 | 4"
   ]
  },
  {
   "cell_type": "markdown",
   "metadata": {},
   "source": [
    "### Architecture 300-300-300\n",
    "\n",
    "|Function|Accuracy|Precision|Recall|F1|Best params|\n",
    "|:---|---|---|---|---|---:|\n",
    "|ReLU                |0.554 | 0.580 | 0.555 | 0.547 | 6\n",
    "|ReLU6               |0.558 | 0.580 | 0.558 | 0.550 | 6\n",
    "|ELU (1)             |0.551 | 0.577 | 0.552 | 0.541 | 6\n",
    "|SELU                |0.544 | 0.572 | 0.544 | 0.531 | 6\n",
    "|LReLU               |0.558 | 0.582 | 0.558 | 0.549 | 6\n",
    "|Thresholded ReLU (1)|0.337 | 0.374 | 0.335 | 0.325 | 5\n",
    "|Swish               |**0.568** | 0.586 | 0.569 | **0.562** | 6\n",
    "|Sigmoid             |0.552 | 0.579 | 0.553 | 0.540 | 6\n",
    "|Hard sigmoid        |0.539 | 0.565 | 0.539 | 0.525 | 6\n",
    "|tanh                |0.545 | 0.563 | 0.545 | 0.535 | 8\n",
    "|Hard tanh           |0.543 | 0.562 | 0.543 | 0.533 | 8\n",
    "|Rational tanh       |0.546 | 0.575 | 0.547 | 0.535 | 6 (i 8)\n",
    "|Rectified tanh      |0.531 | 0.549 | 0.532 | 0.521 | 8\n",
    "|Softmax             |0.534 | 0.543 | 0.533 | 0.526 | 8\n",
    "|Softplus            |0.554 | 0.578 | 0.556 | 0.544 | 6\n",
    "|Softsign            |0.536 | 0.563 | 0.537 | 0.526 | 6\n",
    "|sin                 |0.564 | 0.587 | 0.564 | 0.553 | 4 (i 8)\n",
    "|cos                 |0.511 | 0.528 | 0.511 | 0.501 | 4\n",
    "|exp                 |0.469 | 0.492 | 0.470 | 0.461 | 8\n",
    "|pow2                |0.533 | 0.547 | 0.534 | 0.527 | 6\n",
    "|pow3                |0.522 | 0.549 | 0.524 | 0.512 | 6\n",
    "|gauss               |0.512 | 0.527 | 0.513 | 0.502 | 4"
   ]
  },
  {
   "cell_type": "markdown",
   "metadata": {},
   "source": [
    "### Architecture 500-500-500\n",
    "\n",
    "|Function|Accuracy|Precision|Recall|F1|Best params|\n",
    "|:---|---|---|---|---|---:|\n",
    "|ReLU                |0.559 | 0.585 | 0.559 | 0.549 | 6\n",
    "|ReLU6               |0.553 | 0.577 | 0.554 | 0.545 | 6\n",
    "|ELU (1)             |0.553 | 0.583 | 0.554 | 0.543 | 6\n",
    "|SELU                |0.548 | 0.581 | 0.548 | 0.536 | 6\n",
    "|LReLU               |0.554 | 0.580 | 0.554 | 0.545 | 6\n",
    "|Thresholded ReLU (1)|0.381 | 0.413 | 0.380 | 0.369 | 6\n",
    "|Swish               |0.553 | 0.578 | 0.554 | 0.545 | 6\n",
    "|Sigmoid             |0.553 | 0.580 | 0.552 | 0.541 | 6\n",
    "|Hard sigmoid        |0.541 | 0.569 | 0.540 | 0.530 | 6\n",
    "|tanh                |0.545 | 0.563 | 0.545 | 0.535 | 8\n",
    "|Hard tanh           |0.535 | 0.555 | 0.534 | 0.525 | 8\n",
    "|Rational tanh       |0.546 | 0.568 | 0.547 | 0.534 | 8\n",
    "|Rectified tanh      |0.543 | 0.566 | 0.544 | 0.533 | 8\n",
    "|Softmax             |0.540 | 0.549 | 0.541 | 0.534 | 8\n",
    "|Softplus            |0.549 | 0.578 | 0.550 | 0.539 | 6\n",
    "|Softsign            |0.549 | 0.582 | 0.549 | 0.534 | 6\n",
    "|sin                 |**0.566** | 0.587 | 0.566 | **0.558** | 4\n",
    "|cos                 |0.512 | 0.526 | 0.512 | 0.503 | 4\n",
    "|exp                 |0.441 | 0.476 | 0.442 | 0.432 | 7\n",
    "|pow2                |0.533 | 0.553 | 0.533 | 0.525 | 6 (i 8)\n",
    "|pow3                |0.521 | 0.543 | 0.522 | 0.511 | 8\n",
    "|gauss               |0.503 | 0.519 | 0.504 | 0.493 | 4"
   ]
  },
  {
   "cell_type": "markdown",
   "metadata": {},
   "source": [
    "### Architecture 100-100-100-100\n",
    "\n",
    "|Function|Accuracy|Precision|Recall|F1|Best params|\n",
    "|:---|---|---|---|---|---:|\n",
    "|ReLU                |0.532 | 0.552 | 0.533 | 0.520 | 6\n",
    "|ReLU6               |0.534 | 0.550 | 0.535 | 0.522 | 6\n",
    "|ELU (1)             |0.532 | 0.553 | 0.533 | 0.519 | 6\n",
    "|SELU                |0.527 | 0.550 | 0.527 | 0.511 | 6\n",
    "|LReLU               |0.536 | 0.556 | 0.537 | 0.525 | 6\n",
    "|Thresholded ReLU (1)|0.251 | 0.274 | 0.249 | 0.234 | 5\n",
    "|Swish               |**0.552** | 0.569 | 0.553 | 0.541 | 6\n",
    "|Sigmoid             |0.530 | 0.550 | 0.531 | 0.516 | 6\n",
    "|Hard sigmoid        |0.522 | 0.544 | 0.523 | 0.508 | 6\n",
    "|tanh                |0.525 | 0.538 | 0.526 | 0.514 | 8\n",
    "|Hard tanh           |0.523 | 0.532 | 0.524 | 0.513 | 8\n",
    "|Rational tanh       |0.527 | 0.547 | 0.527 | 0.512 | 6\n",
    "|Rectified tanh      |0.482 | 0.494 | 0.483 | 0.468 | 8\n",
    "|Softmax             |0.522 | 0.532 | 0.522 | 0.513 | 8\n",
    "|Softplus            |0.541 | 0.560 | 0.542 | 0.529 | 6\n",
    "|Softsign            |0.510 | 0.530 | 0.511 | 0.494 | 6\n",
    "|sin                 |0.550 | 0.556 | 0.551 | **0.543** | 8\n",
    "|cos                 |0.485 | 0.501 | 0.486 | 0.468 | 4\n",
    "|exp                 |0.441 | 0.473 | 0.442 | 0.423 | 4\n",
    "|pow2                |0.512 | 0.528 | 0.512 | 0.499 | 6\n",
    "|pow3                |0.446 | 0.482 | 0.447 | 0.428 | 6\n",
    "|gauss               |0.469 | 0.488 | 0.469 | 0.451 | 2"
   ]
  },
  {
   "cell_type": "markdown",
   "metadata": {},
   "source": [
    "### Architecture 200-200-200-200\n",
    "\n",
    "|Function|Accuracy|Precision|Recall|F1|Best params|\n",
    "|:---|---|---|---|---|---:|\n",
    "|ReLU                |0.548 | 0.574 | 0.549 | 0.539 | 6\n",
    "|ReLU6               |0.547 | 0.570 | 0.547 | 0.538 | 6\n",
    "|ELU (1)             |0.545 | 0.571 | 0.546 | 0.534 | 6\n",
    "|SELU                |0.545 | 0.574 | 0.545 | 0.533 | 6\n",
    "|LReLU               |0.549 | 0.573 | 0.549 | 0.537 | 6\n",
    "|Thresholded ReLU (1)|0.306 | 0.338 | 0.305 | 0.289 | 5\n",
    "|Swish               |**0.564** | 0.579 | 0.565 | **0.556** | 8\n",
    "|Sigmoid             |0.546 | 0.571 | 0.546 | 0.534 | 6\n",
    "|Hard sigmoid        |0.536 | 0.559 | 0.537 | 0.523 | 6\n",
    "|tanh                |0.540 | 0.564 | 0.540 | 0.526 | 6\n",
    "|Hard tanh           |0.529 | 0.547 | 0.530 | 0.516 | 8\n",
    "|Rational tanh       |0.550 | 0.575 | 0.550 | 0.538 | 6\n",
    "|Rectified tanh      |0.518 | 0.530 | 0.519 | 0.507 | 8\n",
    "|Softmax             |0.534 | 0.546 | 0.535 | 0.526 | 8\n",
    "|Softplus            |0.558 | 0.580 | 0.559 | 0.548 | 6\n",
    "|Softsign            |0.533 | 0.556 | 0.534 | 0.518 | 6\n",
    "|sin                 |0.549 | 0.559 | 0.550 | 0.545 | 8\n",
    "|cos                 |0.498 | 0.518 | 0.498 | 0.484 | 4\n",
    "|exp                 |0.434 | 0.460 | 0.434 | 0.427 | 8\n",
    "|pow2                |0.526 | 0.547 | 0.528 | 0.516 | 6\n",
    "|pow3                |0.447 | 0.476 | 0.449 | 0.427 | 6\n",
    "|gauss               |0.488 | 0.505 | 0.489 | 0.475 | 4"
   ]
  },
  {
   "cell_type": "markdown",
   "metadata": {},
   "source": [
    "### Architecture 300-300-300-300\n",
    "\n",
    "|Function|Accuracy|Precision|Recall|F1|Best params|\n",
    "|:---|---|---|---|---|---:|\n",
    "|ReLU                |0.557 | 0.584 | 0.557 | 0.547 | 6\n",
    "|ReLU6               |0.561 | 0.582 | 0.561 | 0.550 | 6\n",
    "|ELU (1)             |0.562 | 0.587 | 0.562 | 0.551 | 6\n",
    "|SELU                |0.546 | 0.578 | 0.546 | 0.532 | 6\n",
    "|LReLU               |0.556 | 0.576 | 0.556 | 0.544 | 6\n",
    "|Thresholded ReLU (1)|0.335 | 0.371 | 0.333 | 0.321 | 5\n",
    "|Swish               |**0.569** | 0.592 | 0.570 | **0.560** | 6 (i 8)\n",
    "|Sigmoid             |0.552 | 0.577 | 0.552 | 0.541 | 6\n",
    "|Hard sigmoid        |0.538 | 0.560 | 0.538 | 0.526 | 8\n",
    "|tanh                |0.545 | 0.561 | 0.546 | 0.536 | 8\n",
    "|Hard tanh           |0.531 | 0.550 | 0.531 | 0.519 | 8\n",
    "|Rational tanh       |0.548 | 0.572 | 0.549 | 0.537 | 8\n",
    "|Rectified tanh      |0.536 | 0.553 | 0.537 | 0.527 | 8\n",
    "|Softmax             |0.534 | 0.548 | 0.535 | 0.528 | 8\n",
    "|Softplus            |0.567 | 0.592 | 0.568 | 0.555 | 6\n",
    "|Softsign            |0.542 | 0.569 | 0.542 | 0.527 | 6\n",
    "|sin                 |0.547 | 0.573 | 0.547 | 0.532 | 4\n",
    "|cos                 |0.496 | 0.513 | 0.496 | 0.480 | 4\n",
    "|exp                 |0.435 | 0.478 | 0.435 | 0.417 | 3 (i 4)\n",
    "|pow2                |0.536 | 0.557 | 0.537 | 0.528 | 6\n",
    "|pow3                |0.410 | 0.434 | 0.411 | 0.389 | 6\n",
    "|gauss               |0.484 | 0.499 | 0.485 | 0.470 | 4"
   ]
  },
  {
   "cell_type": "markdown",
   "metadata": {},
   "source": [
    "### Architecture 500-500-500-500\n",
    "\n",
    "|Function|Accuracy|Precision|Recall|F1|Best params|\n",
    "|:---|---|---|---|---|---:|\n",
    "|ReLU                |0.568 | 0.594 | 0.568 | 0.558 | 6\n",
    "|ReLU6               |0.554 | 0.578 | 0.554 | 0.545 | 6\n",
    "|ELU (1)             |0.563 | 0.593 | 0.564 | 0.552 | 6\n",
    "|SELU                |0.555 | 0.589 | 0.555 | 0.544 | 6\n",
    "|LReLU               |0.559 | 0.585 | 0.559 | 0.548 | 6\n",
    "|Thresholded ReLU (1)|0.381 | 0.421 | 0.380 | 0.367 | 6\n",
    "|Swish               |**0.571** | 0.596 | 0.571 | **0.562** | 6\n",
    "|Sigmoid             |0.555 | 0.585 | 0.554 | 0.544 | 6\n",
    "|Hard sigmoid        |0.544 | 0.574 | 0.544 | 0.530 | 6\n",
    "|tanh                |0.544 | 0.566 | 0.544 | 0.531 | 8\n",
    "|Hard tanh           |0.531 | 0.551 | 0.532 | 0.519 | 8\n",
    "|Rational tanh       |0.549 | 0.574 | 0.548 | 0.537 | 6\n",
    "|Rectified tanh      |0.542 | 0.566 | 0.542 | 0.530 | 8\n",
    "|Softmax             |0.532 | 0.539 | 0.532 | 0.526 | 8\n",
    "|Softplus            |**0.571** | 0.598 | 0.572 | 0.561 | 6\n",
    "|Softsign            |0.546 | 0.570 | 0.547 | 0.533 | 8\n",
    "|sin                 |0.561 | 0.584 | 0.561 | 0.553 | 3\n",
    "|cos                 |0.494 | 0.514 | 0.494 | 0.483 | 4\n",
    "|exp                 |0.415 | 0.464 | 0.415 | 0.394 | 3\n",
    "|pow2                |0.540 | 0.560 | 0.540 | 0.529 | 6\n",
    "|pow3                |0.222 | 0.261 | 0.223 | 0.222 | 8\n",
    "|gauss               |0.485 | 0.503 | 0.485 | 0.472 | 4"
   ]
  },
  {
   "cell_type": "markdown",
   "metadata": {},
   "source": [
    "# GP optimization"
   ]
  },
  {
   "cell_type": "markdown",
   "metadata": {},
   "source": [
    "### Architecture 30-30, split 80/20\n",
    "\n",
    "Best function: <br>\n",
    "$\\sin (\\frac{\\sin (x)}{\\sin (x)}) \\cdot \\frac{\\sin (x)}{0.3461698400504488}$\n",
    "\n",
    "Evolution:\n",
    "\n",
    "Accuracy | Precision | Recall | F1\n",
    "- | - | - | -\n",
    "0.459 | 0.464 | 0.460 | 0.442\n",
    "\n",
    "Re-tested on official split:\n",
    "\n",
    "Accuracy | Precision | Recall | F1\n",
    "- | - | - | -\n",
    "0.477 | 0.485 | 0.477 | 0.462"
   ]
  },
  {
   "cell_type": "code",
   "execution_count": 62,
   "metadata": {},
   "outputs": [
    {
     "data": {
      "image/png": "[encoded data removed]",
      "text/plain": [
       "<matplotlib.figure.Figure at 0x7fa8e87e8668>"
      ]
     },
     "metadata": {},
     "output_type": "display_data"
    }
   ],
   "source": [
    "plot(lambda x: m.sin(1) * m.sin(x)/0.3461698400504488)"
   ]
  },
  {
   "cell_type": "markdown",
   "metadata": {},
   "source": [
    "### Architecture 30-30, split 60/40\n",
    "\n",
    "Best function: <br>\n",
    "$\\min (\\sin (\\sin (x)),x)$\n",
    "\n",
    "Evolution:\n",
    "\n",
    "Accuracy | Precision | Recall | F1\n",
    "- | - | - | -\n",
    "0.437 | 0.457 | 0.436 | 0.414\n",
    "\n",
    "Re-tested on official split:\n",
    "\n",
    "Accuracy | Precision | Recall | F1\n",
    "- | - | - | -\n",
    "0.462 | 0.489 | 0.463 | 0.441"
   ]
  },
  {
   "cell_type": "code",
   "execution_count": 63,
   "metadata": {},
   "outputs": [
    {
     "data": {
      "image/png": "[encoded data removed]",
      "text/plain": [
       "<matplotlib.figure.Figure at 0x7fa8e859e978>"
      ]
     },
     "metadata": {},
     "output_type": "display_data"
    }
   ],
   "source": [
    "plot(lambda x: min(m.sin(m.sin(x)), x))"
   ]
  },
  {
   "cell_type": "markdown",
   "metadata": {},
   "source": [
    "### Architecture 30-30, split 40/60\n",
    "\n",
    "Best function: <br>\n",
    "$\\cos (x + 1.0)$\n",
    "\n",
    "Evolution:\n",
    "\n",
    "Accuracy | Precision | Recall | F1\n",
    "- | - | - | -\n",
    "0.397 | 0.394 | 0.398 | 0.380\n",
    "\n",
    "Re-tested on official split:\n",
    "\n",
    "Accuracy | Precision | Recall | F1\n",
    "- | - | - | -\n",
    "0.437 | 0.436 | 0.437 | 0.420"
   ]
  },
  {
   "cell_type": "code",
   "execution_count": 64,
   "metadata": {},
   "outputs": [
    {
     "data": {
      "image/png": "[encoded data removed]",
      "text/plain": [
       "<matplotlib.figure.Figure at 0x7fa8e859ea58>"
      ]
     },
     "metadata": {},
     "output_type": "display_data"
    }
   ],
   "source": [
    "plot(lambda x: m.cos(x+1))"
   ]
  },
  {
   "cell_type": "markdown",
   "metadata": {},
   "source": [
    "### Architecture 28-28-28, split 80/20\n",
    "\n",
    "Best function: <br>\n",
    "$\\min (\\sin (\\sin (x)),x)$\n",
    "\n",
    "Evolution:\n",
    "\n",
    "Accuracy | Precision | Recall | F1\n",
    "- | - | - | -\n",
    "0.456 | 0.487 | 0.457 | 0.433\n",
    "\n",
    "Re-tested on official split:\n",
    "\n",
    "Accuracy | Precision | Recall | F1\n",
    "- | - | - | -\n",
    "0.454 | 0.481 | 0.454 | 0.427"
   ]
  },
  {
   "cell_type": "code",
   "execution_count": 2,
   "metadata": {},
   "outputs": [
    {
     "ename": "NameError",
     "evalue": "name 'plot' is not defined",
     "output_type": "error",
     "traceback": [
      "\u001b[0;31m---------------------------------------------------------------------------\u001b[0m",
      "\u001b[0;31mNameError\u001b[0m                                 Traceback (most recent call last)",
      "\u001b[0;32m<ipython-input-2-8c227fbcf4c7>\u001b[0m in \u001b[0;36m<module>\u001b[0;34m()\u001b[0m\n\u001b[0;32m----> 1\u001b[0;31m \u001b[0mplot\u001b[0m\u001b[0;34m(\u001b[0m\u001b[0;32mlambda\u001b[0m \u001b[0mx\u001b[0m\u001b[0;34m:\u001b[0m \u001b[0mmin\u001b[0m\u001b[0;34m(\u001b[0m\u001b[0mm\u001b[0m\u001b[0;34m.\u001b[0m\u001b[0msin\u001b[0m\u001b[0;34m(\u001b[0m\u001b[0mm\u001b[0m\u001b[0;34m.\u001b[0m\u001b[0msin\u001b[0m\u001b[0;34m(\u001b[0m\u001b[0mx\u001b[0m\u001b[0;34m)\u001b[0m\u001b[0;34m)\u001b[0m\u001b[0;34m,\u001b[0m \u001b[0mx\u001b[0m\u001b[0;34m)\u001b[0m\u001b[0;34m)\u001b[0m\u001b[0;34m\u001b[0m\u001b[0m\n\u001b[0m",
      "\u001b[0;31mNameError\u001b[0m: name 'plot' is not defined"
     ]
    }
   ],
   "source": [
    "plot(lambda x: min(m.sin(m.sin(x)), x))"
   ]
  }
 ],
 "metadata": {
  "kernelspec": {
   "display_name": "Python 3",
   "language": "python",
   "name": "python3"
  },
  "language_info": {
   "codemirror_mode": {
    "name": "ipython",
    "version": 3
   },
   "file_extension": ".py",
   "mimetype": "text/x-python",
   "name": "python",
   "nbconvert_exporter": "python",
   "pygments_lexer": "ipython3",
   "version": "3.6.2"
  }
 },
 "nbformat": 4,
 "nbformat_minor": 2
}
