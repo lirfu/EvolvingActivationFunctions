{
 "cells": [
  {
   "cell_type": "code",
   "execution_count": 123,
   "metadata": {
    "collapsed": true
   },
   "outputs": [],
   "source": [
    "import os\n",
    "from os import path\n",
    "import re\n",
    "\n",
    "import numpy as np\n",
    "import matplotlib.pyplot as plt\n",
    "\n",
    "dire = '/home/lirfu/Desktop/dr/results_backup'\n",
    "save_dir = '.ignore'\n",
    "\n",
    "try:\n",
    "    os.makedirs(save_dir)\n",
    "except FileExistsError:\n",
    "    pass"
   ]
  },
  {
   "cell_type": "code",
   "execution_count": 115,
   "metadata": {
    "collapsed": true
   },
   "outputs": [],
   "source": [
    "class9 = path.join(dire, 'noiseless_all_training_9class')\n",
    "class256 = path.join(dire, 'noiseless_all_training_256class')\n",
    "\n",
    "exp_name = 'gp_activation_taboo'"
   ]
  },
  {
   "cell_type": "code",
   "execution_count": 116,
   "metadata": {
    "collapsed": true
   },
   "outputs": [],
   "source": [
    "def get_dirs(ds):\n",
    "    dirs = []\n",
    "    for d in os.listdir(ds):\n",
    "        if d.startswith(exp_name):\n",
    "            dirs.append(d)\n",
    "    return sorted(dirs)\n",
    "\n",
    "def parse_val(line):\n",
    "    return float(re.compile(r'[: \\t]+').split(line)[1])\n",
    "\n",
    "def get_vals(ds):\n",
    "    dirs = get_dirs(ds)\n",
    "    \n",
    "    t_acc = []\n",
    "    t_f1 = []\n",
    "    for d in dirs:\n",
    "        p = path.join(ds, d)\n",
    "        v_acc = []\n",
    "        v_f1 = []\n",
    "        for e in os.listdir(p):\n",
    "            with open(path.join(p, e, 'results.txt')) as f:\n",
    "                i = 0\n",
    "                for l in f:\n",
    "                    if i == 1:\n",
    "                        v_acc.append(parse_val(l))\n",
    "                    elif i == 4:\n",
    "                        v_f1.append(parse_val(l))\n",
    "                    i+=1\n",
    "        t_acc.append(v_acc)\n",
    "        t_f1.append(v_f1)\n",
    "    return np.array(t_acc), np.array(t_f1)\n",
    "\n",
    "def boxplot(data, x_t, y_t, limits=(0, 1), name=None):\n",
    "    plt.figure(figsize=(8,6))\n",
    "    plt.boxplot(data, notch=False, labels=range(data.shape[1]), widths=.4,\n",
    "                medianprops = dict(linestyle='-', linewidth=2, color='blue'))\n",
    "    plt.ylim(limits[0], limits[1])\n",
    "    plt.xlabel(x_t)\n",
    "    plt.ylabel(y_t)\n",
    "    #plt.xticks(range(1,1+data.shape[1]), range(data.shape[1]))\n",
    "    plt.grid()\n",
    "    #plt.scatter(range(1,1+data.shape[1]), np.max(data, axis=0), marker='x', color='red')\n",
    "    #plt.scatter(range(1,1+data.shape[1]), np.min(data, axis=0), marker='.', color='blue')\n",
    "    if name:\n",
    "        plt.savefig(path.join(save_dir,name+'.pdf'), bbox_inches = 'tight', pad_inches = 0)\n",
    "    plt.show()"
   ]
  },
  {
   "cell_type": "markdown",
   "metadata": {},
   "source": [
    "# 9class"
   ]
  },
  {
   "cell_type": "code",
   "execution_count": 117,
   "metadata": {
    "collapsed": true
   },
   "outputs": [],
   "source": [
    "acc, f1 = get_vals(class9)"
   ]
  },
  {
   "cell_type": "code",
   "execution_count": 118,
   "metadata": {
    "scrolled": false
   },
   "outputs": [
    {
     "data": {
      "image/png": "[encoded data removed]",
      "text/plain": [
       "<matplotlib.figure.Figure at 0x7f742de30c18>"
      ]
     },
     "metadata": {},
     "output_type": "display_data"
    },
    {
     "name": "stdout",
     "output_type": "stream",
     "text": [
      "[[0.9547609  0.95935081 0.96400072 0.95863083 0.9652007  0.96403072\n",
      "  0.96103078 0.96154077 0.96349073 0.94531109]\n",
      " [0.96568069 0.96181076 0.96526069 0.96613068 0.96424072 0.96349073\n",
      "  0.96406072 0.96301074 0.96364073 0.96529069]\n",
      " [0.95953081 0.95728085 0.95755085 0.96649067 0.96130077 0.96403072\n",
      "  0.96439071 0.00446991 0.96349073 0.96391072]\n",
      " [0.96586068 0.96640067 0.96439071 0.96370073 0.96106078 0.96397072\n",
      "  0.9647807  0.96268075 0.96364073 0.96589068]\n",
      " [0.95926081 0.95740085 0.95206096 0.96187076 0.96391072 0.96403072\n",
      "  0.9600408  0.96361073 0.9647507  0.95818084]]\n"
     ]
    }
   ],
   "source": [
    "boxplot(acc.T, 'Veličina tabu liste', 'Točnost', limits=(0.94,  0.97), name='GP_9class_acc')\n",
    "print(acc)"
   ]
  },
  {
   "cell_type": "code",
   "execution_count": 119,
   "metadata": {},
   "outputs": [
    {
     "data": {
      "image/png": "[encoded data removed]",
      "text/plain": [
       "<matplotlib.figure.Figure at 0x7f742de30c50>"
      ]
     },
     "metadata": {},
     "output_type": "display_data"
    }
   ],
   "source": [
    "boxplot(f1.T, 'Veličina tabu liste', 'F1 mjera', limits=(0.92,  0.96), name='GP_9class_f1')"
   ]
  },
  {
   "cell_type": "markdown",
   "metadata": {},
   "source": [
    "# 256class"
   ]
  },
  {
   "cell_type": "code",
   "execution_count": 120,
   "metadata": {},
   "outputs": [
    {
     "name": "stdout",
     "output_type": "stream",
     "text": [
      "(2, 10)\n"
     ]
    }
   ],
   "source": [
    "acc, f1 = get_vals(class256)\n",
    "print(acc.shape)"
   ]
  },
  {
   "cell_type": "code",
   "execution_count": 121,
   "metadata": {},
   "outputs": [
    {
     "data": {
      "image/png": "[encoded data removed]",
      "text/plain": [
       "<matplotlib.figure.Figure at 0x7f742e6643c8>"
      ]
     },
     "metadata": {},
     "output_type": "display_data"
    },
    {
     "name": "stdout",
     "output_type": "stream",
     "text": [
      "[[0.5848983  0.5851683  0.54820904 0.55720886 0.56704866 0.57319854\n",
      "  0.55246895 0.55204896 0.57766845 0.56092878]\n",
      " [0.57064859 0.56599868 0.549949   0.57358853 0.57433851 0.56962861\n",
      "  0.57214856 0.57082858 0.57094858 0.56458871]]\n"
     ]
    }
   ],
   "source": [
    "boxplot(acc.T, 'Veličina tabu liste', 'Točnost', limits=(0.5, 0.6), name='GP_256class_acc')\n",
    "print(acc)"
   ]
  },
  {
   "cell_type": "code",
   "execution_count": 122,
   "metadata": {},
   "outputs": [
    {
     "data": {
      "image/png": "[encoded data removed]",
      "text/plain": [
       "<matplotlib.figure.Figure at 0x7f742e635940>"
      ]
     },
     "metadata": {},
     "output_type": "display_data"
    },
    {
     "name": "stdout",
     "output_type": "stream",
     "text": [
      "[[0.57891449 0.57986797 0.54218233 0.55034526 0.56149569 0.56832894\n",
      "  0.54624469 0.54640315 0.57331866 0.55629755]\n",
      " [0.56667697 0.56026453 0.54532213 0.56896505 0.56981254 0.5629843\n",
      "  0.56668277 0.56678278 0.56647173 0.56112815]]\n"
     ]
    }
   ],
   "source": [
    "boxplot(f1.T, 'Veličina tabu liste', 'F1 mjera', limits=(0.5, 0.6), name='GP_256class_f1')\n",
    "print(f1)"
   ]
  }
 ],
 "metadata": {
  "kernelspec": {
   "display_name": "Python 3",
   "language": "python",
   "name": "python3"
  },
  "language_info": {
   "codemirror_mode": {
    "name": "ipython",
    "version": 3
   },
   "file_extension": ".py",
   "mimetype": "text/x-python",
   "name": "python",
   "nbconvert_exporter": "python",
   "pygments_lexer": "ipython3",
   "version": "3.6.2"
  }
 },
 "nbformat": 4,
 "nbformat_minor": 2
}
